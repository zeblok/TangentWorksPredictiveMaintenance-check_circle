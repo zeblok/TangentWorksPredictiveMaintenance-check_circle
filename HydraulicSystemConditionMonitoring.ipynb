{
 "cells": [
  {
   "cell_type": "markdown",
   "metadata": {},
   "source": [
    "# Condition monitoring of hydraulic system\n",
    "\n",
    "<Use Case library>\n",
    "\n",
    "|  |  |\n",
    "|--|--|\n",
    "|**Title:** | Condition monitoring of hydraulic system |\n",
    "|**Author:** | Michal Bezak, Tangent Works|\n",
    "|**Industry:** | Manufacturing, Agriculture, Transportation |\n",
    "|**Area:** | Predictive maintenance, Condition monitoring |\n",
    "|**Type:** | Forecasting |\n",
    "\n",
    "\n",
    "## Description\n",
    "\n",
    "Hydraulic system on test rig consists of a primary working and a secondary cooling-filtration circuit, both connected via the oil tank. The system operates in 60 seconds cycles. From operations perspective it is desired to understand when system will be in sub-optimal condition to avoid malfunction or even outage.\n",
    "\n",
    "Proactive condition monitoring can improve efficiency and maximized uptime of machine. Equally, it can be part of predictive maintenance process which covers variety of areas, including prediction of failure.\n",
    "\n",
    "To avoid downtimes caused by malfunction of technical equipment, companies follow maintenance schedule to discover and fix potential issues. Nevertheless, with more data (from sensors installed) available there are new possibilities how to make maintenance process better. With AI/ML it is possible to further optimize maintenance schedule.\n",
    "\n",
    "This has tangible financial implications, imagine two extreme situations:\n",
    "\n",
    "- Maintenance planned for later than needed - tech. equipment would reach point of failure and cause operations disruptions, every minute of downtime can bring big losses, delays of other parts of the process, not to mention implications to health or lives of people.\n",
    "- If a company makes maintenance too often or too soon, expenses for time and material spent is higher than situation required, also, should component be replaced completely, capital invested into machine/components is not utilized to its full potential.\n",
    "\n",
    "Hydraulic systems are commonly used in heavy equipment. In a hydraulic system, pressure, applied to a contained fluid is transmitted. That pressurized fluid acts upon every part of the section of a containing vessel and creates force or power. Due to the use of this force, it is possible for instance to lift heavy loads. Transporting liquid through a set of interconnected components, a hydraulic circuit is a system that can control where fluid flows as well as control fluid pressure. Thus, it consists of multiple components and offers range of areas to monitor to ensure optimal operation. In our use case we will focus on pump leakage.\n",
    "\n",
    "In this Use case we will solve following problem: *How much time operating in optimal condition remains (until it reaches sub-optimal condition)?*. From ML perspective this can be framed as forecasting problem. \n",
    "\n",
    "\n",
    "## Business parameters\n",
    "\n",
    "|  |  |\n",
    "|--|--|\n",
    "|**Business objective:** | Reduce outages in production process |\n",
    "|**Business value:** | Reduce cost of down-times and inefficient operations |\n",
    "|**KPI:** | - |\n",
    "\n",
    "|  |  |\n",
    "|--|--|\n",
    "|**Business objective:** | Predictive maintenance |\n",
    "|**Business value:** | Optimal cost |\n",
    "|**KPI:** | - |\n",
    "\n",
    "## Dataset\n",
    "\n",
    "The dataset was obtained with a hydraulic test rig. The system cyclically repeats constant load cycles (duration of 60 sec.) and measures values such as: pressure, volume flow and temperature. Meanwhile the condition of hydraulic components - cooler, valve, pump, and accumulator - is quantified. \n",
    "\n",
    "One of conditions monitored - *internal pump leakage* - is selected and transformed into target variable. In dataset it was named *rul* which stands for remaining useful life although its complete description would fit remaining time of optimal operating condition.\n",
    "\n",
    "\n",
    "### Sampling\n",
    "\n",
    "Raw data files were transformed into time series dataset with 1-second sampling rate. Raw data were sampled at variable frequency, e.g. pressure 100x per second, volume flow at 10 Hz, so aggregation was necessary to synchronize predictors in dataset. *median* was used for aggregation.\n",
    "\n",
    "### Data\n",
    "\n",
    "Structure of CSV file:\n",
    "\n",
    "\n",
    "\n",
    "RUL values were encoded based on time remaining until the condition of *internal pump leakage* degraded to level 2, i.e. severe leakage. (Condition values in raw dataset are represented as follows: 0 for no leakage, 1 for weak leakage, 2 for severe leakage).\n",
    "\n",
    "### Data situation\n",
    "\n",
    "If we want TIM to quantify current condition based on measurement, it means that we want to predict value of target based on predictors values, and so the last record of target must be kept empty (NaN/None) in dataset. TIM will use available predictors to predict given record. This situation will be replicated by TIM to calculate results for all out-of-sample records.\n",
    "\n",
    "CSV files used in experiments can be downloaded [here](data_pump_leakage.csv).\n",
    "\n",
    "### Source\n",
    "\n",
    "Raw data files were acquired at [Kaggle](https://www.kaggle.com/mayank1897/condition-monitoring-of-hydraulic-systems)."
   ]
  },
  {
   "cell_type": "markdown",
   "metadata": {},
   "source": [
    "|  |  |  |  |\n",
    "|--|--|--|--|\n",
    "| Column name | Description |Type | Availability|\n",
    "| **Timestamp** | Date| Timestamp column | |\n",
    "| **rul** | Remaning useful life (no. of cycles) | Target | t-1 |\n",
    "| **cycle** | Operations cycle no. |Predictor | t+1 |\n",
    "| **TS1 ... TS4** |  Temperature (Celsius)  | Predictor | t+1 |\n",
    "| **PS1 ... PS6** |   Pressure (bars)  | Predictor | t+1 |\n",
    "| **VS1** | Vibration (mm/s) | Predictor | t+1 |\n",
    "| **FS1 ... FS2** | Volume flow (l/min) | Predictor | t+1 |\n",
    "| **CP** | Cooling power (virtual, kW)  | Predictor | t+1 |\n",
    "| **CE** | Cooling efficiency (virtual, %)| Predictor | t+1 |\n",
    "| **SE** | Efficiency factor (%) | Predictor | t+1 |\n",
    "| **EPS1** | Motor power (W) | Predictor | t+1 |"
   ]
  },
  {
   "cell_type": "markdown",
   "metadata": {},
   "source": [
    "# 1. Setup"
   ]
  },
  {
   "cell_type": "code",
   "execution_count": 1,
   "metadata": {},
   "outputs": [
    {
     "name": "stderr",
     "output_type": "stream",
     "text": [
      "[INFO] 2021-06-09 10:23:23,945 - tim_client.api_client:save_json:66 - Saving JSONs functionality has been enabled\n",
      "[INFO] 2021-06-09 10:23:23,947 - tim_client.api_client:json_saving_folder_path:75 - JSON destination folder changed to logs\n"
     ]
    }
   ],
   "source": [
    "import json\n",
    "import logging\n",
    "import tim_client\n",
    "import pandas as pd\n",
    "import datetime as dt\n",
    "import plotly as plt\n",
    "import plotly.express as px\n",
    "import plotly.graph_objects as go\n",
    "\n",
    "# import requests\n",
    "# import numpy as np\n",
    "# from sklearn.metrics import mean_squared_error, mean_absolute_error\n",
    "# import math\n",
    "\n",
    "credentials_json = json.load(open('credentials.json'))\n",
    "logging.basicConfig(level= logging.getLevelName('INFO'), format='[%(levelname)s] %(asctime)s - %(name)s:%(funcName)s:%(lineno)s - %(message)s')\n",
    "logger = logging.getLogger(__name__)\n",
    "credentials = tim_client.Credentials(credentials_json['license_key'], credentials_json['email'], credentials_json['password'], tim_url='https://timws.tangent.works/latest/api')\n",
    "api_client = tim_client.ApiClient(credentials)\n",
    "api_client.save_json = True\n",
    "api_client.json_saving_folder_path = 'logs/'"
   ]
  },
  {
   "cell_type": "markdown",
   "metadata": {},
   "source": [
    "# 2. Data Preprocessing"
   ]
  },
  {
   "cell_type": "code",
   "execution_count": 1,
   "metadata": {},
   "outputs": [
    {
     "ename": "NameError",
     "evalue": "name 'tim_client' is not defined",
     "output_type": "error",
     "traceback": [
      "\u001b[1;31m---------------------------------------------------------------------------\u001b[0m",
      "\u001b[1;31mNameError\u001b[0m                                 Traceback (most recent call last)",
      "\u001b[1;32m<ipython-input-1-ef071e37ac0d>\u001b[0m in \u001b[0;36m<module>\u001b[1;34m\u001b[0m\n\u001b[1;32m----> 1\u001b[1;33m \u001b[0mdata\u001b[0m \u001b[1;33m=\u001b[0m \u001b[0mtim_client\u001b[0m\u001b[1;33m.\u001b[0m\u001b[0mload_dataset_from_csv_file\u001b[0m\u001b[1;33m(\u001b[0m\u001b[1;34m'data_pump_leakage.csv'\u001b[0m\u001b[1;33m,\u001b[0m \u001b[0msep\u001b[0m\u001b[1;33m=\u001b[0m\u001b[1;34m','\u001b[0m\u001b[1;33m)\u001b[0m\u001b[1;33m\u001b[0m\u001b[1;33m\u001b[0m\u001b[0m\n\u001b[0m\u001b[0;32m      2\u001b[0m \u001b[0mdata\u001b[0m\u001b[1;33m\u001b[0m\u001b[1;33m\u001b[0m\u001b[0m\n",
      "\u001b[1;31mNameError\u001b[0m: name 'tim_client' is not defined"
     ]
    }
   ],
   "source": [
    "data = tim_client.load_dataset_from_csv_file('data_pump_leakage.csv', sep=',')\n",
    "data"
   ]
  },
  {
   "cell_type": "code",
   "execution_count": 2,
   "metadata": {},
   "outputs": [
    {
     "ename": "NameError",
     "evalue": "name 'data' is not defined",
     "output_type": "error",
     "traceback": [
      "\u001b[1;31m---------------------------------------------------------------------------\u001b[0m",
      "\u001b[1;31mNameError\u001b[0m                                 Traceback (most recent call last)",
      "\u001b[1;32m<ipython-input-2-9c77f8eeffc7>\u001b[0m in \u001b[0;36m<module>\u001b[1;34m\u001b[0m\n\u001b[0;32m      2\u001b[0m \u001b[0mtarget_variable\u001b[0m \u001b[1;33m=\u001b[0m \u001b[1;34m'rul'\u001b[0m\u001b[1;33m\u001b[0m\u001b[1;33m\u001b[0m\u001b[0m\n\u001b[0;32m      3\u001b[0m \u001b[0mtraining_testing_split\u001b[0m \u001b[1;33m=\u001b[0m \u001b[1;36m0.3\u001b[0m\u001b[1;33m\u001b[0m\u001b[1;33m\u001b[0m\u001b[0m\n\u001b[1;32m----> 4\u001b[1;33m \u001b[0mbacktest_length\u001b[0m \u001b[1;33m=\u001b[0m \u001b[0mint\u001b[0m\u001b[1;33m(\u001b[0m\u001b[0mdata\u001b[0m\u001b[1;33m.\u001b[0m\u001b[0mshape\u001b[0m\u001b[1;33m[\u001b[0m\u001b[1;36m0\u001b[0m\u001b[1;33m]\u001b[0m\u001b[1;33m*\u001b[0m\u001b[0mtraining_testing_split\u001b[0m \u001b[1;33m)\u001b[0m\u001b[1;33m\u001b[0m\u001b[1;33m\u001b[0m\u001b[0m\n\u001b[0m",
      "\u001b[1;31mNameError\u001b[0m: name 'data' is not defined"
     ]
    }
   ],
   "source": [
    "timestamp = 'time'\n",
    "target_variable = 'rul'\n",
    "training_testing_split = 0.3\n",
    "backtest_length = int(data.shape[0]*training_testing_split )"
   ]
  },
  {
   "cell_type": "code",
   "execution_count": 3,
   "metadata": {},
   "outputs": [
    {
     "ename": "NameError",
     "evalue": "name 'data' is not defined",
     "output_type": "error",
     "traceback": [
      "\u001b[1;31m---------------------------------------------------------------------------\u001b[0m",
      "\u001b[1;31mNameError\u001b[0m                                 Traceback (most recent call last)",
      "\u001b[1;32m<ipython-input-3-353dc036267f>\u001b[0m in \u001b[0;36m<module>\u001b[1;34m\u001b[0m\n\u001b[1;32m----> 1\u001b[1;33m \u001b[0mnb_rows\u001b[0m \u001b[1;33m=\u001b[0m \u001b[0mlen\u001b[0m\u001b[1;33m(\u001b[0m\u001b[0mdata\u001b[0m\u001b[1;33m.\u001b[0m\u001b[0mcolumns\u001b[0m\u001b[1;33m)\u001b[0m\u001b[1;33m\u001b[0m\u001b[1;33m\u001b[0m\u001b[0m\n\u001b[0m\u001b[0;32m      2\u001b[0m \u001b[0mp_list\u001b[0m \u001b[1;33m=\u001b[0m \u001b[0mlist\u001b[0m\u001b[1;33m(\u001b[0m\u001b[0mdata\u001b[0m\u001b[1;33m.\u001b[0m\u001b[0mcolumns\u001b[0m\u001b[1;33m[\u001b[0m\u001b[1;36m1\u001b[0m\u001b[1;33m:\u001b[0m\u001b[0mnb_rows\u001b[0m\u001b[1;33m+\u001b[0m\u001b[1;36m1\u001b[0m\u001b[1;33m]\u001b[0m\u001b[1;33m)\u001b[0m\u001b[1;33m\u001b[0m\u001b[1;33m\u001b[0m\u001b[0m\n\u001b[0;32m      3\u001b[0m \u001b[0mx_axis\u001b[0m \u001b[1;33m=\u001b[0m \u001b[0mtimestamp\u001b[0m\u001b[1;33m\u001b[0m\u001b[1;33m\u001b[0m\u001b[0m\n\u001b[0;32m      4\u001b[0m \u001b[0mfig\u001b[0m \u001b[1;33m=\u001b[0m \u001b[0mplt\u001b[0m\u001b[1;33m.\u001b[0m\u001b[0msubplots\u001b[0m\u001b[1;33m.\u001b[0m\u001b[0mmake_subplots\u001b[0m\u001b[1;33m(\u001b[0m\u001b[0mrows\u001b[0m\u001b[1;33m=\u001b[0m\u001b[0mnb_rows\u001b[0m\u001b[1;33m-\u001b[0m\u001b[1;36m1\u001b[0m\u001b[1;33m,\u001b[0m \u001b[0mcols\u001b[0m\u001b[1;33m=\u001b[0m\u001b[1;36m1\u001b[0m\u001b[1;33m,\u001b[0m \u001b[0mshared_xaxes\u001b[0m\u001b[1;33m=\u001b[0m\u001b[1;32mTrue\u001b[0m\u001b[1;33m,\u001b[0m \u001b[0mvertical_spacing\u001b[0m\u001b[1;33m=\u001b[0m\u001b[1;36m0.02\u001b[0m\u001b[1;33m)\u001b[0m\u001b[1;33m\u001b[0m\u001b[1;33m\u001b[0m\u001b[0m\n\u001b[0;32m      5\u001b[0m \u001b[1;32mfor\u001b[0m \u001b[0mp\u001b[0m \u001b[1;32min\u001b[0m \u001b[0mp_list\u001b[0m\u001b[1;33m:\u001b[0m\u001b[1;33m\u001b[0m\u001b[1;33m\u001b[0m\u001b[0m\n",
      "\u001b[1;31mNameError\u001b[0m: name 'data' is not defined"
     ]
    }
   ],
   "source": [
    "nb_rows = len(data.columns)\n",
    "p_list = list(data.columns[1:nb_rows+1])\n",
    "x_axis = timestamp\n",
    "fig = plt.subplots.make_subplots(rows=nb_rows-1, cols=1, shared_xaxes=True, vertical_spacing=0.02)\n",
    "for p in p_list:\n",
    "    fig.add_trace(go.Scatter(x=data[x_axis], y=data[p], name=p), row=p_list.index(p)+1, col=1)\n",
    "fig.update_layout(height=2500, width=1200, title_text=\"Data visualization\")\n",
    "fig.show()    "
   ]
  },
  {
   "cell_type": "markdown",
   "metadata": {},
   "source": [
    "### Visualization of RUL value until failure points"
   ]
  },
  {
   "cell_type": "code",
   "execution_count": 4,
   "metadata": {},
   "outputs": [
    {
     "ename": "NameError",
     "evalue": "name 'data' is not defined",
     "output_type": "error",
     "traceback": [
      "\u001b[1;31m---------------------------------------------------------------------------\u001b[0m",
      "\u001b[1;31mNameError\u001b[0m                                 Traceback (most recent call last)",
      "\u001b[1;32m<ipython-input-4-4d62a46af1f5>\u001b[0m in \u001b[0;36m<module>\u001b[1;34m\u001b[0m\n\u001b[1;32m----> 1\u001b[1;33m \u001b[0mvis_df\u001b[0m \u001b[1;33m=\u001b[0m \u001b[0mdata\u001b[0m\u001b[1;33m.\u001b[0m\u001b[0mcopy\u001b[0m\u001b[1;33m(\u001b[0m\u001b[1;33m)\u001b[0m\u001b[1;33m\u001b[0m\u001b[1;33m\u001b[0m\u001b[0m\n\u001b[0m\u001b[0;32m      2\u001b[0m \u001b[0mvis_df\u001b[0m\u001b[1;33m[\u001b[0m\u001b[1;34m'time'\u001b[0m\u001b[1;33m]\u001b[0m \u001b[1;33m=\u001b[0m \u001b[0mpd\u001b[0m\u001b[1;33m.\u001b[0m\u001b[0mto_datetime\u001b[0m\u001b[1;33m(\u001b[0m \u001b[0mvis_df\u001b[0m\u001b[1;33m[\u001b[0m\u001b[1;34m'time'\u001b[0m\u001b[1;33m]\u001b[0m \u001b[1;33m)\u001b[0m\u001b[1;33m\u001b[0m\u001b[1;33m\u001b[0m\u001b[0m\n\u001b[0;32m      3\u001b[0m \u001b[0mvis_df\u001b[0m\u001b[1;33m.\u001b[0m\u001b[0mset_index\u001b[0m\u001b[1;33m(\u001b[0m\u001b[1;34m'time'\u001b[0m\u001b[1;33m,\u001b[0m\u001b[0minplace\u001b[0m\u001b[1;33m=\u001b[0m\u001b[1;32mTrue\u001b[0m\u001b[1;33m)\u001b[0m\u001b[1;33m\u001b[0m\u001b[1;33m\u001b[0m\u001b[0m\n\u001b[0;32m      4\u001b[0m \u001b[0mtimestamps\u001b[0m \u001b[1;33m=\u001b[0m \u001b[1;33m[\u001b[0m \u001b[0mvis_df\u001b[0m\u001b[1;33m.\u001b[0m\u001b[0mindex\u001b[0m\u001b[1;33m.\u001b[0m\u001b[0mmin\u001b[0m\u001b[1;33m(\u001b[0m\u001b[1;33m)\u001b[0m \u001b[1;33m+\u001b[0m \u001b[0mi\u001b[0m \u001b[1;33m*\u001b[0m \u001b[0mdt\u001b[0m\u001b[1;33m.\u001b[0m\u001b[0mtimedelta\u001b[0m\u001b[1;33m(\u001b[0m\u001b[0mseconds\u001b[0m\u001b[1;33m=\u001b[0m\u001b[1;36m1\u001b[0m\u001b[1;33m)\u001b[0m \u001b[1;32mfor\u001b[0m \u001b[0mi\u001b[0m \u001b[1;32min\u001b[0m \u001b[0mrange\u001b[0m\u001b[1;33m(\u001b[0m \u001b[0mint\u001b[0m\u001b[1;33m(\u001b[0m \u001b[1;33m(\u001b[0m \u001b[0mvis_df\u001b[0m\u001b[1;33m.\u001b[0m\u001b[0mindex\u001b[0m\u001b[1;33m.\u001b[0m\u001b[0mmax\u001b[0m\u001b[1;33m(\u001b[0m\u001b[1;33m)\u001b[0m \u001b[1;33m-\u001b[0m \u001b[0mvis_df\u001b[0m\u001b[1;33m.\u001b[0m\u001b[0mindex\u001b[0m\u001b[1;33m.\u001b[0m\u001b[0mmin\u001b[0m\u001b[1;33m(\u001b[0m\u001b[1;33m)\u001b[0m \u001b[1;33m)\u001b[0m\u001b[1;33m.\u001b[0m\u001b[0mtotal_seconds\u001b[0m\u001b[1;33m(\u001b[0m\u001b[1;33m)\u001b[0m \u001b[1;33m)\u001b[0m \u001b[1;33m+\u001b[0m \u001b[1;36m1\u001b[0m \u001b[1;33m)\u001b[0m \u001b[1;33m]\u001b[0m\u001b[1;33m\u001b[0m\u001b[1;33m\u001b[0m\u001b[0m\n\u001b[0;32m      5\u001b[0m \u001b[0mtemp_df\u001b[0m \u001b[1;33m=\u001b[0m \u001b[0mpd\u001b[0m\u001b[1;33m.\u001b[0m\u001b[0mDataFrame\u001b[0m\u001b[1;33m(\u001b[0m \u001b[1;33m{\u001b[0m\u001b[1;34m'timestamp'\u001b[0m\u001b[1;33m:\u001b[0m \u001b[0mtimestamps\u001b[0m \u001b[1;33m}\u001b[0m \u001b[1;33m)\u001b[0m\u001b[1;33m\u001b[0m\u001b[1;33m\u001b[0m\u001b[0m\n",
      "\u001b[1;31mNameError\u001b[0m: name 'data' is not defined"
     ]
    }
   ],
   "source": [
    "vis_df = data.copy()\n",
    "vis_df['time'] = pd.to_datetime( vis_df['time'] )\n",
    "vis_df.set_index('time',inplace=True)\n",
    "timestamps = [ vis_df.index.min() + i * dt.timedelta(seconds=1) for i in range( int( ( vis_df.index.max() - vis_df.index.min() ).total_seconds() ) + 1 ) ]\n",
    "temp_df = pd.DataFrame( {'timestamp': timestamps } )\n",
    "temp_df.set_index( 'timestamp', inplace=True )\n",
    "vis_df = temp_df.join( vis_df )\n",
    "vis_df['time'] = vis_df.index"
   ]
  },
  {
   "cell_type": "code",
   "execution_count": 5,
   "metadata": {},
   "outputs": [
    {
     "ename": "NameError",
     "evalue": "name 'go' is not defined",
     "output_type": "error",
     "traceback": [
      "\u001b[1;31m---------------------------------------------------------------------------\u001b[0m",
      "\u001b[1;31mNameError\u001b[0m                                 Traceback (most recent call last)",
      "\u001b[1;32m<ipython-input-5-c04d4dcf791c>\u001b[0m in \u001b[0;36m<module>\u001b[1;34m\u001b[0m\n\u001b[1;32m----> 1\u001b[1;33m \u001b[0mfig\u001b[0m \u001b[1;33m=\u001b[0m \u001b[0mgo\u001b[0m\u001b[1;33m.\u001b[0m\u001b[0mFigure\u001b[0m\u001b[1;33m(\u001b[0m\u001b[0mgo\u001b[0m\u001b[1;33m.\u001b[0m\u001b[0mScatter\u001b[0m\u001b[1;33m(\u001b[0m\u001b[0mx\u001b[0m\u001b[1;33m=\u001b[0m\u001b[0mvis_df\u001b[0m\u001b[1;33m[\u001b[0m\u001b[0mtimestamp\u001b[0m\u001b[1;33m]\u001b[0m\u001b[1;33m,\u001b[0m\u001b[0my\u001b[0m\u001b[1;33m=\u001b[0m\u001b[0mvis_df\u001b[0m\u001b[1;33m[\u001b[0m\u001b[0mtarget_variable\u001b[0m\u001b[1;33m]\u001b[0m\u001b[1;33m/\u001b[0m\u001b[0mvis_df\u001b[0m\u001b[1;33m[\u001b[0m\u001b[0mtarget_variable\u001b[0m\u001b[1;33m]\u001b[0m\u001b[1;33m.\u001b[0m\u001b[0mmax\u001b[0m\u001b[1;33m(\u001b[0m\u001b[1;33m)\u001b[0m\u001b[1;33m,\u001b[0m\u001b[0mname\u001b[0m\u001b[1;33m=\u001b[0m\u001b[0mtarget_variable\u001b[0m\u001b[1;33m)\u001b[0m\u001b[1;33m)\u001b[0m\u001b[1;33m\u001b[0m\u001b[1;33m\u001b[0m\u001b[0m\n\u001b[0m\u001b[0;32m      2\u001b[0m \u001b[0mfig\u001b[0m\u001b[1;33m.\u001b[0m\u001b[0mupdate_layout\u001b[0m\u001b[1;33m(\u001b[0m\u001b[0mtitle\u001b[0m \u001b[1;33m=\u001b[0m \u001b[0mtarget_variable\u001b[0m\u001b[1;33m,\u001b[0m\u001b[0mheight\u001b[0m \u001b[1;33m=\u001b[0m \u001b[1;36m700\u001b[0m\u001b[1;33m,\u001b[0m\u001b[0mwidth\u001b[0m \u001b[1;33m=\u001b[0m \u001b[1;36m1200\u001b[0m\u001b[1;33m)\u001b[0m\u001b[1;33m\u001b[0m\u001b[1;33m\u001b[0m\u001b[0m\n\u001b[0;32m      3\u001b[0m \u001b[0mfig\u001b[0m\u001b[1;33m.\u001b[0m\u001b[0mshow\u001b[0m\u001b[1;33m(\u001b[0m\u001b[1;33m)\u001b[0m\u001b[1;33m\u001b[0m\u001b[1;33m\u001b[0m\u001b[0m\n",
      "\u001b[1;31mNameError\u001b[0m: name 'go' is not defined"
     ]
    }
   ],
   "source": [
    "fig = go.Figure(go.Scatter(x=vis_df[timestamp],y=vis_df[target_variable]/vis_df[target_variable].max(),name=target_variable))\n",
    "fig.update_layout(title = target_variable,height = 700,width = 1200)\n",
    "fig.show()"
   ]
  },
  {
   "cell_type": "markdown",
   "metadata": {},
   "source": [
    "# 3. Engine settings\n",
    "\n",
    "Parameters that need to be set are:\n",
    "\n",
    "- Prediction horizon (Sample + 1) - because we want to predict the next value only.\n",
    "- Back-test length (that defines out-of-sample interval).\n",
    "- setting *modelQuality* to *Medium* would prevent TIM to use lagged values of target itself which is expected otherwise it would basically leak unknown information; setting *allowOffsets* to False will switch off use of lagged values completely including predictors - bottom line is to one of these settings. Results of experiments did not deliver substantially different results using one or the other.\n",
    "\n",
    "We also ask for additional data from engine to see details of sub-models so we define *extendedOutputConfiguration* parameter as well."
   ]
  },
  {
   "cell_type": "code",
   "execution_count": 6,
   "metadata": {},
   "outputs": [
    {
     "ename": "NameError",
     "evalue": "name 'backtest_length' is not defined",
     "output_type": "error",
     "traceback": [
      "\u001b[1;31m---------------------------------------------------------------------------\u001b[0m",
      "\u001b[1;31mNameError\u001b[0m                                 Traceback (most recent call last)",
      "\u001b[1;32m<ipython-input-6-9fdf03dbe609>\u001b[0m in \u001b[0;36m<module>\u001b[1;34m\u001b[0m\n\u001b[0;32m      2\u001b[0m     'usage': {                                 \n\u001b[0;32m      3\u001b[0m         \u001b[1;34m'predictionTo'\u001b[0m\u001b[1;33m:\u001b[0m \u001b[1;33m{\u001b[0m\u001b[1;34m'baseUnit'\u001b[0m\u001b[1;33m:\u001b[0m \u001b[1;34m'Sample'\u001b[0m\u001b[1;33m,\u001b[0m\u001b[1;34m'offset'\u001b[0m\u001b[1;33m:\u001b[0m \u001b[1;36m1\u001b[0m\u001b[1;33m}\u001b[0m\u001b[1;33m,\u001b[0m\u001b[1;33m\u001b[0m\u001b[1;33m\u001b[0m\u001b[0m\n\u001b[1;32m----> 4\u001b[1;33m         \u001b[1;34m'backtestLength'\u001b[0m\u001b[1;33m:\u001b[0m \u001b[0mbacktest_length\u001b[0m\u001b[1;33m,\u001b[0m\u001b[1;33m\u001b[0m\u001b[1;33m\u001b[0m\u001b[0m\n\u001b[0m\u001b[0;32m      5\u001b[0m         \u001b[1;34m'modelQuality'\u001b[0m\u001b[1;33m:\u001b[0m \u001b[1;33m[\u001b[0m \u001b[1;33m{\u001b[0m \u001b[1;34m'day'\u001b[0m\u001b[1;33m:\u001b[0m \u001b[1;36m0\u001b[0m\u001b[1;33m,\u001b[0m \u001b[1;34m'quality'\u001b[0m\u001b[1;33m:\u001b[0m \u001b[1;34m'Medium'\u001b[0m \u001b[1;33m}\u001b[0m \u001b[1;33m]\u001b[0m\u001b[1;33m\u001b[0m\u001b[1;33m\u001b[0m\u001b[0m\n\u001b[0;32m      6\u001b[0m     },    \n",
      "\u001b[1;31mNameError\u001b[0m: name 'backtest_length' is not defined"
     ]
    }
   ],
   "source": [
    "rtiml_configuration = {\n",
    "    'usage': {                                 \n",
    "        'predictionTo': {'baseUnit': 'Sample','offset': 1}, \n",
    "        'backtestLength': backtest_length,\n",
    "        'modelQuality': [ { 'day': 0, 'quality': 'Medium' } ]\n",
    "    },    \n",
    "    #'allowOffsets': False,\n",
    "    'extendedOutputConfiguration': {\n",
    "        'returnExtendedImportances': True,\n",
    "    }\n",
    "}"
   ]
  },
  {
   "cell_type": "markdown",
   "metadata": {},
   "source": [
    "# 4. Run TIM"
   ]
  },
  {
   "cell_type": "code",
   "execution_count": 7,
   "metadata": {},
   "outputs": [
    {
     "ename": "NameError",
     "evalue": "name 'api_client' is not defined",
     "output_type": "error",
     "traceback": [
      "\u001b[1;31m---------------------------------------------------------------------------\u001b[0m",
      "\u001b[1;31mNameError\u001b[0m                                 Traceback (most recent call last)",
      "\u001b[1;32m<ipython-input-7-9f5150e66032>\u001b[0m in \u001b[0;36m<module>\u001b[1;34m\u001b[0m\n\u001b[1;32m----> 1\u001b[1;33m \u001b[0muuids\u001b[0m \u001b[1;33m=\u001b[0m \u001b[0mapi_client\u001b[0m\u001b[1;33m.\u001b[0m\u001b[0mprediction_build_model_predict\u001b[0m\u001b[1;33m(\u001b[0m\u001b[0mdata\u001b[0m\u001b[1;33m,\u001b[0m\u001b[0mrtiml_configuration\u001b[0m\u001b[1;33m,\u001b[0m\u001b[0mwait_to_finish\u001b[0m \u001b[1;33m=\u001b[0m \u001b[1;32mFalse\u001b[0m\u001b[1;33m)\u001b[0m\u001b[1;33m.\u001b[0m\u001b[0mrequest_uuid\u001b[0m\u001b[1;33m\u001b[0m\u001b[1;33m\u001b[0m\u001b[0m\n\u001b[0m\u001b[0;32m      2\u001b[0m \u001b[1;32mwhile\u001b[0m \u001b[1;32mTrue\u001b[0m\u001b[1;33m:\u001b[0m\u001b[1;33m\u001b[0m\u001b[1;33m\u001b[0m\u001b[0m\n\u001b[0;32m      3\u001b[0m     \u001b[0mrtiml_prediction\u001b[0m \u001b[1;33m=\u001b[0m \u001b[0mapi_client\u001b[0m\u001b[1;33m.\u001b[0m\u001b[0mprediction_build_model_predict_detail\u001b[0m\u001b[1;33m(\u001b[0m\u001b[0muuids\u001b[0m\u001b[1;33m)\u001b[0m\u001b[1;33m\u001b[0m\u001b[1;33m\u001b[0m\u001b[0m\n\u001b[0;32m      4\u001b[0m     \u001b[0mprint\u001b[0m\u001b[1;33m(\u001b[0m\u001b[0mrtiml_prediction\u001b[0m\u001b[1;33m.\u001b[0m\u001b[0mstatus\u001b[0m\u001b[1;33m+\u001b[0m\u001b[1;34m\" \"\u001b[0m\u001b[1;33m+\u001b[0m\u001b[0mstr\u001b[0m\u001b[1;33m(\u001b[0m\u001b[0mrtiml_prediction\u001b[0m\u001b[1;33m.\u001b[0m\u001b[0mprogress\u001b[0m\u001b[1;33m)\u001b[0m\u001b[1;33m,\u001b[0m\u001b[0mend\u001b[0m\u001b[1;33m=\u001b[0m\u001b[1;34m'\\r'\u001b[0m\u001b[1;33m)\u001b[0m\u001b[1;33m\u001b[0m\u001b[1;33m\u001b[0m\u001b[0m\n\u001b[0;32m      5\u001b[0m     \u001b[1;32mif\u001b[0m \u001b[0mrtiml_prediction\u001b[0m\u001b[1;33m.\u001b[0m\u001b[0mstatus\u001b[0m \u001b[1;33m==\u001b[0m \u001b[1;34m\"Running\"\u001b[0m\u001b[1;33m:\u001b[0m \u001b[1;32mcontinue\u001b[0m\u001b[1;33m\u001b[0m\u001b[1;33m\u001b[0m\u001b[0m\n",
      "\u001b[1;31mNameError\u001b[0m: name 'api_client' is not defined"
     ]
    }
   ],
   "source": [
    "uuids = api_client.prediction_build_model_predict(data,rtiml_configuration,wait_to_finish = False).request_uuid\n",
    "while True:\n",
    "    rtiml_prediction = api_client.prediction_build_model_predict_detail(uuids)\n",
    "    print(rtiml_prediction.status+\" \"+str(rtiml_prediction.progress),end='\\r')\n",
    "    if rtiml_prediction.status == \"Running\": continue \n",
    "    else: break\n",
    "\n",
    "print(rtiml_prediction.status+\" \"+str(rtiml_prediction.progress))\n",
    "for i in rtiml_prediction.events:\n",
    "    if \"Warning\" in i['message']: print(i['message'])\n",
    "print('Runtime: '+str(pd.to_datetime(pd.DataFrame(rtiml_prediction.events)['dateTime'].iloc[-1])-(pd.to_datetime(pd.DataFrame(rtiml_prediction.events)['dateTime']).iloc[0])))"
   ]
  },
  {
   "cell_type": "markdown",
   "metadata": {},
   "source": [
    "# 5. Collect Results"
   ]
  },
  {
   "cell_type": "code",
   "execution_count": 8,
   "metadata": {},
   "outputs": [
    {
     "ename": "NameError",
     "evalue": "name 'data' is not defined",
     "output_type": "error",
     "traceback": [
      "\u001b[1;31m---------------------------------------------------------------------------\u001b[0m",
      "\u001b[1;31mNameError\u001b[0m                                 Traceback (most recent call last)",
      "\u001b[1;32m<ipython-input-8-bbd8efb1b444>\u001b[0m in \u001b[0;36m<module>\u001b[1;34m\u001b[0m\n\u001b[1;32m----> 1\u001b[1;33m \u001b[0mtim_input\u001b[0m \u001b[1;33m=\u001b[0m \u001b[0mdata\u001b[0m\u001b[1;33m\u001b[0m\u001b[1;33m\u001b[0m\u001b[0m\n\u001b[0m\u001b[0;32m      2\u001b[0m \u001b[1;31m# ------------------------------ Predictions ------------------------------\u001b[0m\u001b[1;33m\u001b[0m\u001b[1;33m\u001b[0m\u001b[1;33m\u001b[0m\u001b[0m\n\u001b[0;32m      3\u001b[0m \u001b[0mprediction_df\u001b[0m \u001b[1;33m=\u001b[0m \u001b[0mrtiml_prediction\u001b[0m\u001b[1;33m.\u001b[0m\u001b[0mget_prediction\u001b[0m\u001b[1;33m(\u001b[0m\u001b[0minclude_intervals\u001b[0m\u001b[1;33m=\u001b[0m\u001b[1;32mTrue\u001b[0m\u001b[1;33m)\u001b[0m\u001b[1;33m.\u001b[0m\u001b[0mreset_index\u001b[0m\u001b[1;33m(\u001b[0m\u001b[1;33m)\u001b[0m\u001b[1;33m\u001b[0m\u001b[1;33m\u001b[0m\u001b[0m\n\u001b[0;32m      4\u001b[0m \u001b[0mprediction_df\u001b[0m\u001b[1;33m[\u001b[0m\u001b[1;34m'Timestamp'\u001b[0m\u001b[1;33m]\u001b[0m \u001b[1;33m=\u001b[0m \u001b[0mpd\u001b[0m\u001b[1;33m.\u001b[0m\u001b[0mto_datetime\u001b[0m\u001b[1;33m(\u001b[0m\u001b[0mprediction_df\u001b[0m\u001b[1;33m[\u001b[0m\u001b[1;34m'Timestamp'\u001b[0m\u001b[1;33m]\u001b[0m\u001b[1;33m)\u001b[0m\u001b[1;33m.\u001b[0m\u001b[0mdt\u001b[0m\u001b[1;33m.\u001b[0m\u001b[0mstrftime\u001b[0m\u001b[1;33m(\u001b[0m\u001b[1;34m'%Y-%m-%d %H:%M:%S'\u001b[0m\u001b[1;33m)\u001b[0m\u001b[1;33m\u001b[0m\u001b[1;33m\u001b[0m\u001b[0m\n\u001b[0;32m      5\u001b[0m \u001b[1;31m# ------------------------------ Aggregated Predictions & Accuracy ------------------------------\u001b[0m\u001b[1;33m\u001b[0m\u001b[1;33m\u001b[0m\u001b[1;33m\u001b[0m\u001b[0m\n",
      "\u001b[1;31mNameError\u001b[0m: name 'data' is not defined"
     ]
    }
   ],
   "source": [
    "tim_input = data\n",
    "# ------------------------------ Predictions ------------------------------\n",
    "prediction_df = rtiml_prediction.get_prediction(include_intervals=True).reset_index()\n",
    "prediction_df['Timestamp'] = pd.to_datetime(prediction_df['Timestamp']).dt.strftime('%Y-%m-%d %H:%M:%S')\n",
    "# ------------------------------ Aggregated Predictions & Accuracy ------------------------------\n",
    "aggregated_predictions_df = pd.DataFrame()\n",
    "accuracy_metrics = pd.DataFrame()\n",
    "for ag in rtiml_prediction.aggregated_predictions:\n",
    "    ag_df = pd.DataFrame(ag['values']).reset_index()\n",
    "    ag_df['day'] = ag['day']\n",
    "    ag_df = ag_df.rename(columns={'Prediction':ag['type']})\n",
    "    aggregated_predictions_df = aggregated_predictions_df.append(ag_df)\n",
    "    acc_df = pd.json_normalize(ag['accuracyMetrics'])\n",
    "    acc_df['day'] = ag['day']\n",
    "    acc_df['type'] = ag['type']\n",
    "    accuracy_metrics = accuracy_metrics.append(acc_df)\n",
    "aggregated_predictions_df['Timestamp'] = pd.to_datetime(aggregated_predictions_df['Timestamp']).dt.strftime('%Y-%m-%d %H:%M:%S')\n",
    "# ------------------------------ Insights ------------------------------\n",
    "pi_df = pd.DataFrame(rtiml_prediction.predictors_importances['simpleImportances'])\n",
    "fi_df = pd.DataFrame(rtiml_prediction.predictors_importances['extendedImportances'])\n",
    "# ------------------------------ Events ------------------------------\n",
    "events_df = pd.DataFrame(rtiml_prediction.events)\n",
    "# ------------------------------ Actuals ------------------------------\n",
    "actuals_df = tim_input[[timestamp,target_variable]].rename(columns={timestamp:'Timestamp',target_variable:'Actuals'}).dropna()\n",
    "actuals_df['Timestamp'] = pd.to_datetime(actuals_df['Timestamp']).dt.strftime('%Y-%m-%d %H:%M:%S')\n",
    "# ------------------------------ Results ------------------------------\n",
    "results_df = actuals_df.append(prediction_df).merge(aggregated_predictions_df[['Timestamp','inSample','outOfSample']],on='Timestamp',how='left')"
   ]
  },
  {
   "cell_type": "code",
   "execution_count": null,
   "metadata": {},
   "outputs": [],
   "source": [
    "out_of_sample_predictions = rtiml_prediction.aggregated_predictions[1]['values']\n",
    "out_of_sample_predictions.rename( columns = {'Prediction':target_variable+'_pred'}, inplace=True)\n",
    "out_of_sample_timestamps = out_of_sample_predictions.index.tolist()\n",
    "evaluation_data = data.copy()\n",
    "evaluation_data[timestamp] = pd.to_datetime(data[timestamp]).dt.tz_localize('UTC')\n",
    "evaluation_data = evaluation_data[ evaluation_data[ timestamp ].isin( out_of_sample_timestamps ) ]\n",
    "evaluation_data.set_index( timestamp,inplace=True)\n",
    "evaluation_data = evaluation_data[[target_variable]].join(out_of_sample_predictions)\n",
    "temp_df = pd.DataFrame( {'timestamp': [ evaluation_data.index[0] + i * dt.timedelta(seconds=1) for i in range( int( (evaluation_data.index[-1] - evaluation_data.index[0]).total_seconds() ) + 1 ) ] } )\n",
    "temp_df.set_index( 'timestamp', inplace=True )\n",
    "evaluation_data = temp_df.join( evaluation_data )"
   ]
  },
  {
   "cell_type": "markdown",
   "metadata": {},
   "source": [
    "# 6. Visualize Results"
   ]
  },
  {
   "cell_type": "code",
   "execution_count": 9,
   "metadata": {},
   "outputs": [
    {
     "ename": "NameError",
     "evalue": "name 'results_df' is not defined",
     "output_type": "error",
     "traceback": [
      "\u001b[1;31m---------------------------------------------------------------------------\u001b[0m",
      "\u001b[1;31mNameError\u001b[0m                                 Traceback (most recent call last)",
      "\u001b[1;32m<ipython-input-9-2ae22701ee6a>\u001b[0m in \u001b[0;36m<module>\u001b[1;34m\u001b[0m\n\u001b[1;32m----> 1\u001b[1;33m \u001b[0mv_data\u001b[0m \u001b[1;33m=\u001b[0m \u001b[0mresults_df\u001b[0m\u001b[1;33m\u001b[0m\u001b[1;33m\u001b[0m\u001b[0m\n\u001b[0m\u001b[0;32m      2\u001b[0m \u001b[0mx_axis\u001b[0m \u001b[1;33m=\u001b[0m \u001b[1;34m'Timestamp'\u001b[0m\u001b[1;33m\u001b[0m\u001b[1;33m\u001b[0m\u001b[0m\n\u001b[0;32m      3\u001b[0m \u001b[0mactuals\u001b[0m \u001b[1;33m=\u001b[0m \u001b[1;34m'Actuals'\u001b[0m\u001b[1;33m\u001b[0m\u001b[1;33m\u001b[0m\u001b[0m\n\u001b[0;32m      4\u001b[0m \u001b[0mprediction\u001b[0m \u001b[1;33m=\u001b[0m \u001b[1;34m'Prediction'\u001b[0m\u001b[1;33m\u001b[0m\u001b[1;33m\u001b[0m\u001b[0m\n\u001b[0;32m      5\u001b[0m \u001b[0minSample\u001b[0m \u001b[1;33m=\u001b[0m \u001b[1;34m'inSample'\u001b[0m\u001b[1;33m\u001b[0m\u001b[1;33m\u001b[0m\u001b[0m\n",
      "\u001b[1;31mNameError\u001b[0m: name 'results_df' is not defined"
     ]
    }
   ],
   "source": [
    "v_data = results_df\n",
    "x_axis = 'Timestamp'\n",
    "actuals = 'Actuals'\n",
    "prediction = 'Prediction'\n",
    "inSample = 'inSample'\n",
    "outOfSample = 'outOfSample'\n",
    "upper = 'UpperValues'\n",
    "lower = 'LowerValues'\n",
    "\n",
    "fig = go.Figure(go.Scatter(x=actuals_df[x_axis], y=actuals_df[actuals], name=actuals, line=dict(color='black')))\n",
    "fig.add_trace(go.Scatter(x=prediction_df[x_axis], y=prediction_df[prediction], name=prediction, line=dict(color='goldenrod')))\n",
    "fig.add_trace(go.Scatter(x=prediction_df[x_axis], y=prediction_df[upper], name=upper, line=dict(color='rgba(240,140,0,0.3)')))\n",
    "fig.add_trace(go.Scatter(x=prediction_df[x_axis], y=prediction_df[lower], name=lower, line=dict(color='rgba(240,140,0,0.3)')))\n",
    "fig.add_trace(go.Scatter(x=aggregated_predictions_df[x_axis], y=aggregated_predictions_df[inSample], name=inSample, line=dict(color='green')))\n",
    "fig.add_trace(go.Scatter(x=aggregated_predictions_df[x_axis], y=aggregated_predictions_df[outOfSample], name=outOfSample, line=dict(color='red')))\n",
    "fig.update_layout(height=500, width=1200, title_text=\"Results\")\n",
    "fig.show()"
   ]
  },
  {
   "cell_type": "code",
   "execution_count": 11,
   "metadata": {},
   "outputs": [
    {
     "ename": "NameError",
     "evalue": "name 'tim_input' is not defined",
     "output_type": "error",
     "traceback": [
      "\u001b[1;31m---------------------------------------------------------------------------\u001b[0m",
      "\u001b[1;31mNameError\u001b[0m                                 Traceback (most recent call last)",
      "\u001b[1;32m<ipython-input-11-1effeb9ab624>\u001b[0m in \u001b[0;36m<module>\u001b[1;34m\u001b[0m\n\u001b[1;32m----> 1\u001b[1;33m \u001b[0mprint\u001b[0m\u001b[1;33m(\u001b[0m\u001b[1;34m'Predictors not used:'\u001b[0m\u001b[1;33m+\u001b[0m\u001b[0mstr\u001b[0m\u001b[1;33m(\u001b[0m\u001b[0mlist\u001b[0m\u001b[1;33m(\u001b[0m\u001b[0mset\u001b[0m\u001b[1;33m(\u001b[0m\u001b[0mtim_input\u001b[0m\u001b[1;33m.\u001b[0m\u001b[0mcolumns\u001b[0m\u001b[1;33m[\u001b[0m\u001b[1;36m1\u001b[0m\u001b[1;33m:\u001b[0m\u001b[1;33m]\u001b[0m\u001b[1;33m)\u001b[0m\u001b[1;33m-\u001b[0m\u001b[0mset\u001b[0m\u001b[1;33m(\u001b[0m\u001b[0mpi_df\u001b[0m\u001b[1;33m[\u001b[0m\u001b[1;34m'predictorName'\u001b[0m\u001b[1;33m]\u001b[0m\u001b[1;33m)\u001b[0m\u001b[1;33m)\u001b[0m\u001b[1;33m)\u001b[0m\u001b[1;33m)\u001b[0m\u001b[1;33m\u001b[0m\u001b[1;33m\u001b[0m\u001b[0m\n\u001b[0m\u001b[0;32m      2\u001b[0m \u001b[0mx_axis\u001b[0m \u001b[1;33m=\u001b[0m \u001b[1;34m'predictorName'\u001b[0m\u001b[1;33m\u001b[0m\u001b[1;33m\u001b[0m\u001b[0m\n\u001b[0;32m      3\u001b[0m \u001b[0my_axis\u001b[0m \u001b[1;33m=\u001b[0m \u001b[1;34m'importance'\u001b[0m\u001b[1;33m\u001b[0m\u001b[1;33m\u001b[0m\u001b[0m\n\u001b[0;32m      4\u001b[0m \u001b[0mfig1\u001b[0m \u001b[1;33m=\u001b[0m \u001b[0mgo\u001b[0m\u001b[1;33m.\u001b[0m\u001b[0mFigure\u001b[0m\u001b[1;33m(\u001b[0m\u001b[0mgo\u001b[0m\u001b[1;33m.\u001b[0m\u001b[0mBar\u001b[0m\u001b[1;33m(\u001b[0m\u001b[0mx\u001b[0m\u001b[1;33m=\u001b[0m\u001b[0mpi_df\u001b[0m\u001b[1;33m[\u001b[0m\u001b[0mx_axis\u001b[0m\u001b[1;33m]\u001b[0m\u001b[1;33m,\u001b[0m \u001b[0my\u001b[0m\u001b[1;33m=\u001b[0m\u001b[0mpi_df\u001b[0m\u001b[1;33m[\u001b[0m\u001b[0my_axis\u001b[0m\u001b[1;33m]\u001b[0m\u001b[1;33m)\u001b[0m\u001b[1;33m)\u001b[0m\u001b[1;33m\u001b[0m\u001b[1;33m\u001b[0m\u001b[0m\n\u001b[0;32m      5\u001b[0m \u001b[0mfig1\u001b[0m\u001b[1;33m.\u001b[0m\u001b[0mupdate_layout\u001b[0m\u001b[1;33m(\u001b[0m\u001b[0mheight\u001b[0m\u001b[1;33m=\u001b[0m\u001b[1;36m700\u001b[0m\u001b[1;33m,\u001b[0m\u001b[0mwidth\u001b[0m\u001b[1;33m=\u001b[0m\u001b[1;36m1400\u001b[0m\u001b[1;33m,\u001b[0m\u001b[0mtitle_text\u001b[0m\u001b[1;33m=\u001b[0m\u001b[1;34m'Predictor Importances'\u001b[0m\u001b[1;33m,\u001b[0m\u001b[0mxaxis_title\u001b[0m\u001b[1;33m=\u001b[0m\u001b[0mx_axis\u001b[0m\u001b[1;33m,\u001b[0m\u001b[0myaxis_title\u001b[0m\u001b[1;33m=\u001b[0m\u001b[0my_axis\u001b[0m\u001b[1;33m)\u001b[0m\u001b[1;33m\u001b[0m\u001b[1;33m\u001b[0m\u001b[0m\n",
      "\u001b[1;31mNameError\u001b[0m: name 'tim_input' is not defined"
     ]
    }
   ],
   "source": [
    "print('Predictors not used:'+str(list(set(tim_input.columns[1:])-set(pi_df['predictorName']))))\n",
    "x_axis = 'predictorName'\n",
    "y_axis = 'importance'\n",
    "fig1 = go.Figure(go.Bar(x=pi_df[x_axis], y=pi_df[y_axis]))\n",
    "fig1.update_layout(height=700,width=1400,title_text='Predictor Importances',xaxis_title=x_axis,yaxis_title=y_axis)\n",
    "fig1.show()"
   ]
  },
  {
   "cell_type": "code",
   "execution_count": 12,
   "metadata": {},
   "outputs": [
    {
     "ename": "NameError",
     "evalue": "name 'px' is not defined",
     "output_type": "error",
     "traceback": [
      "\u001b[1;31m---------------------------------------------------------------------------\u001b[0m",
      "\u001b[1;31mNameError\u001b[0m                                 Traceback (most recent call last)",
      "\u001b[1;32m<ipython-input-12-8bff26588471>\u001b[0m in \u001b[0;36m<module>\u001b[1;34m\u001b[0m\n\u001b[1;32m----> 1\u001b[1;33m \u001b[0mfig\u001b[0m \u001b[1;33m=\u001b[0m \u001b[0mpx\u001b[0m\u001b[1;33m.\u001b[0m\u001b[0msunburst\u001b[0m\u001b[1;33m(\u001b[0m\u001b[0mfi_df\u001b[0m\u001b[1;33m,\u001b[0m \u001b[0mpath\u001b[0m\u001b[1;33m=\u001b[0m\u001b[1;33m[\u001b[0m\u001b[1;34m'time'\u001b[0m\u001b[1;33m,\u001b[0m\u001b[1;34m'termName'\u001b[0m\u001b[1;33m]\u001b[0m\u001b[1;33m,\u001b[0m \u001b[0mvalues\u001b[0m\u001b[1;33m=\u001b[0m\u001b[1;34m'importance'\u001b[0m\u001b[1;33m,\u001b[0m\u001b[0mcolor\u001b[0m\u001b[1;33m=\u001b[0m\u001b[1;34m'termName'\u001b[0m\u001b[1;33m)\u001b[0m\u001b[1;33m\u001b[0m\u001b[1;33m\u001b[0m\u001b[0m\n\u001b[0m\u001b[0;32m      2\u001b[0m \u001b[0mfig\u001b[0m\u001b[1;33m.\u001b[0m\u001b[0mupdate_layout\u001b[0m\u001b[1;33m(\u001b[0m\u001b[0mheight\u001b[0m\u001b[1;33m=\u001b[0m\u001b[1;36m700\u001b[0m\u001b[1;33m,\u001b[0m\u001b[0mwidth\u001b[0m\u001b[1;33m=\u001b[0m\u001b[1;36m700\u001b[0m\u001b[1;33m,\u001b[0m\u001b[0mtitle_text\u001b[0m\u001b[1;33m=\u001b[0m\u001b[1;34m'Feature Importances'\u001b[0m\u001b[1;33m)\u001b[0m\u001b[1;33m\u001b[0m\u001b[1;33m\u001b[0m\u001b[0m\n\u001b[0;32m      3\u001b[0m \u001b[0mfig\u001b[0m\u001b[1;33m.\u001b[0m\u001b[0mshow\u001b[0m\u001b[1;33m(\u001b[0m\u001b[1;33m)\u001b[0m\u001b[1;33m\u001b[0m\u001b[1;33m\u001b[0m\u001b[0m\n",
      "\u001b[1;31mNameError\u001b[0m: name 'px' is not defined"
     ]
    }
   ],
   "source": [
    "fig = px.sunburst(fi_df, path=['time','termName'], values='importance',color='termName')\n",
    "fig.update_layout(height=700,width=700,title_text='Feature Importances')\n",
    "fig.show()"
   ]
  },
  {
   "cell_type": "code",
   "execution_count": 15,
   "metadata": {},
   "outputs": [
    {
     "ename": "NameError",
     "evalue": "name 'go' is not defined",
     "output_type": "error",
     "traceback": [
      "\u001b[1;31m---------------------------------------------------------------------------\u001b[0m",
      "\u001b[1;31mNameError\u001b[0m                                 Traceback (most recent call last)",
      "\u001b[1;32m<ipython-input-15-88ceec4147a4>\u001b[0m in \u001b[0;36m<module>\u001b[1;34m\u001b[0m\n\u001b[1;32m----> 1\u001b[1;33m \u001b[0mfig\u001b[0m \u001b[1;33m=\u001b[0m \u001b[0mgo\u001b[0m\u001b[1;33m.\u001b[0m\u001b[0mFigure\u001b[0m\u001b[1;33m(\u001b[0m\u001b[1;33m)\u001b[0m\u001b[1;33m\u001b[0m\u001b[1;33m\u001b[0m\u001b[0m\n\u001b[0m\u001b[0;32m      2\u001b[0m \u001b[0mfig\u001b[0m\u001b[1;33m.\u001b[0m\u001b[0madd_trace\u001b[0m\u001b[1;33m(\u001b[0m\u001b[0mgo\u001b[0m\u001b[1;33m.\u001b[0m\u001b[0mScatter\u001b[0m\u001b[1;33m(\u001b[0m\u001b[0mx\u001b[0m\u001b[1;33m=\u001b[0m\u001b[0mevaluation_data\u001b[0m\u001b[1;33m.\u001b[0m\u001b[0mindex\u001b[0m\u001b[1;33m,\u001b[0m\u001b[0my\u001b[0m\u001b[1;33m=\u001b[0m\u001b[0mevaluation_data\u001b[0m\u001b[1;33m[\u001b[0m\u001b[0mtarget_variable\u001b[0m\u001b[1;33m+\u001b[0m\u001b[1;34m'_pred'\u001b[0m\u001b[1;33m]\u001b[0m\u001b[1;33m,\u001b[0m\u001b[0mname\u001b[0m\u001b[1;33m=\u001b[0m\u001b[1;34m'Predicted'\u001b[0m\u001b[1;33m)\u001b[0m\u001b[1;33m)\u001b[0m\u001b[1;33m\u001b[0m\u001b[1;33m\u001b[0m\u001b[0m\n\u001b[0;32m      3\u001b[0m \u001b[0mfig\u001b[0m\u001b[1;33m.\u001b[0m\u001b[0madd_trace\u001b[0m\u001b[1;33m(\u001b[0m\u001b[0mgo\u001b[0m\u001b[1;33m.\u001b[0m\u001b[0mScatter\u001b[0m\u001b[1;33m(\u001b[0m\u001b[0mx\u001b[0m\u001b[1;33m=\u001b[0m\u001b[0mevaluation_data\u001b[0m\u001b[1;33m.\u001b[0m\u001b[0mindex\u001b[0m\u001b[1;33m,\u001b[0m\u001b[0my\u001b[0m\u001b[1;33m=\u001b[0m\u001b[0mevaluation_data\u001b[0m\u001b[1;33m[\u001b[0m\u001b[0mtarget_variable\u001b[0m\u001b[1;33m]\u001b[0m\u001b[1;33m,\u001b[0m\u001b[0mname\u001b[0m\u001b[1;33m=\u001b[0m\u001b[1;34m'Actual'\u001b[0m\u001b[1;33m)\u001b[0m\u001b[1;33m)\u001b[0m\u001b[1;33m\u001b[0m\u001b[1;33m\u001b[0m\u001b[0m\n\u001b[0;32m      4\u001b[0m \u001b[0mfig\u001b[0m\u001b[1;33m.\u001b[0m\u001b[0mupdate_layout\u001b[0m\u001b[1;33m(\u001b[0m\u001b[0mtitle\u001b[0m \u001b[1;33m=\u001b[0m \u001b[1;34m'Ouf of sample results'\u001b[0m\u001b[1;33m,\u001b[0m\u001b[0mheight\u001b[0m \u001b[1;33m=\u001b[0m \u001b[1;36m700\u001b[0m\u001b[1;33m,\u001b[0m\u001b[0mwidth\u001b[0m \u001b[1;33m=\u001b[0m \u001b[1;36m1200\u001b[0m\u001b[1;33m)\u001b[0m\u001b[1;33m\u001b[0m\u001b[1;33m\u001b[0m\u001b[0m\n\u001b[0;32m      5\u001b[0m \u001b[0mfig\u001b[0m\u001b[1;33m.\u001b[0m\u001b[0mshow\u001b[0m\u001b[1;33m(\u001b[0m\u001b[1;33m)\u001b[0m\u001b[1;33m\u001b[0m\u001b[1;33m\u001b[0m\u001b[0m\n",
      "\u001b[1;31mNameError\u001b[0m: name 'go' is not defined"
     ]
    }
   ],
   "source": [
    "fig = go.Figure()\n",
    "fig.add_trace(go.Scatter(x=evaluation_data.index,y=evaluation_data[target_variable+'_pred'],name='Predicted'))\n",
    "fig.add_trace(go.Scatter(x=evaluation_data.index,y=evaluation_data[target_variable],name='Actual'))\n",
    "fig.update_layout(title = 'Ouf of sample results',height = 700,width = 1200)\n",
    "fig.show()"
   ]
  },
  {
   "cell_type": "markdown",
   "metadata": {},
   "source": [
    "# 7. Save Results"
   ]
  },
  {
   "cell_type": "code",
   "execution_count": 17,
   "metadata": {},
   "outputs": [
    {
     "ename": "NameError",
     "evalue": "name 'results_df' is not defined",
     "output_type": "error",
     "traceback": [
      "\u001b[1;31m---------------------------------------------------------------------------\u001b[0m",
      "\u001b[1;31mNameError\u001b[0m                                 Traceback (most recent call last)",
      "\u001b[1;32m<ipython-input-17-65f0aaeff1d3>\u001b[0m in \u001b[0;36m<module>\u001b[1;34m\u001b[0m\n\u001b[1;32m----> 1\u001b[1;33m \u001b[0mresults_df\u001b[0m\u001b[1;33m.\u001b[0m\u001b[0mto_csv\u001b[0m\u001b[1;33m(\u001b[0m\u001b[1;34m'results_df.csv'\u001b[0m\u001b[1;33m,\u001b[0m\u001b[0mindex\u001b[0m\u001b[1;33m=\u001b[0m\u001b[1;32mFalse\u001b[0m\u001b[1;33m)\u001b[0m\u001b[1;33m\u001b[0m\u001b[1;33m\u001b[0m\u001b[0m\n\u001b[0m\u001b[0;32m      2\u001b[0m \u001b[0mtim_input\u001b[0m\u001b[1;33m.\u001b[0m\u001b[0mto_csv\u001b[0m\u001b[1;33m(\u001b[0m\u001b[1;34m'tim_input.csv'\u001b[0m\u001b[1;33m,\u001b[0m\u001b[0mindex\u001b[0m\u001b[1;33m=\u001b[0m\u001b[1;32mFalse\u001b[0m\u001b[1;33m)\u001b[0m\u001b[1;33m\u001b[0m\u001b[1;33m\u001b[0m\u001b[0m\n\u001b[0;32m      3\u001b[0m \u001b[0mevaluation_data\u001b[0m\u001b[1;33m.\u001b[0m\u001b[0mto_csv\u001b[0m\u001b[1;33m(\u001b[0m\u001b[1;34m'evaluation_data.csv'\u001b[0m\u001b[1;33m,\u001b[0m\u001b[0mindex\u001b[0m\u001b[1;33m=\u001b[0m\u001b[1;32mFalse\u001b[0m\u001b[1;33m)\u001b[0m\u001b[1;33m\u001b[0m\u001b[1;33m\u001b[0m\u001b[0m\n\u001b[0;32m      4\u001b[0m \u001b[0mpi_df\u001b[0m\u001b[1;33m.\u001b[0m\u001b[0mto_csv\u001b[0m\u001b[1;33m(\u001b[0m\u001b[1;34m'pi_df.csv'\u001b[0m\u001b[1;33m,\u001b[0m\u001b[0mindex\u001b[0m\u001b[1;33m=\u001b[0m\u001b[1;32mFalse\u001b[0m\u001b[1;33m)\u001b[0m\u001b[1;33m\u001b[0m\u001b[1;33m\u001b[0m\u001b[0m\n\u001b[0;32m      5\u001b[0m \u001b[0mfi_df\u001b[0m\u001b[1;33m.\u001b[0m\u001b[0mto_csv\u001b[0m\u001b[1;33m(\u001b[0m\u001b[1;34m'fi_df.csv'\u001b[0m\u001b[1;33m,\u001b[0m\u001b[0mindex\u001b[0m\u001b[1;33m=\u001b[0m\u001b[1;32mFalse\u001b[0m\u001b[1;33m)\u001b[0m\u001b[1;33m\u001b[0m\u001b[1;33m\u001b[0m\u001b[0m\n",
      "\u001b[1;31mNameError\u001b[0m: name 'results_df' is not defined"
     ]
    }
   ],
   "source": [
    "results_df.to_csv('results_df.csv',index=False)\n",
    "tim_input.to_csv('tim_input.csv',index=False)\n",
    "evaluation_data.to_csv('evaluation_data.csv',index=False)\n",
    "pi_df.to_csv('pi_df.csv',index=False)\n",
    "fi_df.to_csv('fi_df.csv',index=False)\n",
    "events_df.to_csv('events_df.csv',index=False)"
   ]
  },
  {
   "cell_type": "markdown",
   "metadata": {},
   "source": [
    "### Summary\n",
    "\n",
    "Chart above depicts how TIM quantified RUL for three out-of-sample occasions.\n",
    "\n",
    "We can see that as it gets close to points of \"failure\", it can rise and reverse its trend; this may need to be explored further, it is expected to be linked to operational specifics of given sub-system also, there are various options how to address this, for instance address sudden reversion, or evaluate value only above certain threshold.\n",
    "\n",
    "Condition monitoring is vastly linked to deeper understanding of given subsystem which is visible also in our use case. Heuristics employed in encoding condition levels plays vital role in preparing data for model building and use in operations.\n",
    "\n",
    "In this use case, we demonstrated how TIM can support estimate of time remaining in optimal condition and/or before component fails, almost in real time operations set-up. Notice that actual cycle no. is not included among the list of predictors, TIM managed to build powerful prediction model without it.\n"
   ]
  },
  {
   "cell_type": "code",
   "execution_count": null,
   "metadata": {},
   "outputs": [],
   "source": []
  }
 ],
 "metadata": {
  "kernelspec": {
   "display_name": "Python 3",
   "language": "python",
   "name": "python3"
  },
  "language_info": {
   "codemirror_mode": {
    "name": "ipython",
    "version": 3
   },
   "file_extension": ".py",
   "mimetype": "text/x-python",
   "name": "python",
   "nbconvert_exporter": "python",
   "pygments_lexer": "ipython3",
   "version": "3.7.6"
  }
 },
 "nbformat": 4,
 "nbformat_minor": 4
}
